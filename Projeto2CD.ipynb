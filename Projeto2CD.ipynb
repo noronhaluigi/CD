{
 "cells": [
  {
   "cell_type": "markdown",
   "metadata": {},
   "source": [
    "# PROJETO 2"
   ]
  },
  {
   "cell_type": "markdown",
   "metadata": {},
   "source": [
    "## <font color='red'>Bruno Vianna Bitelli;</font> <font color='red'>Isabella Oliveira;</font> <font color='red'>Guilherme Graicer;</font> <font color='red'>Luigi Noronha</font>\n",
    "___"
   ]
  },
  {
   "cell_type": "markdown",
   "metadata": {},
   "source": [
    "## <font color='blue'>Teste A/B</font>"
   ]
  },
  {
   "cell_type": "markdown",
   "metadata": {},
   "source": [
    "## Introdução\n",
    "\n",
    "Esse é um projeto a respeito de um teste A/B realizado por alunos de engenharia do Insper. Nele, duas versões de um mesmo web site foram criadas a fim de analisar em qual delas os usuários apresentaram um melhor desempenho ao serem desafiados a cumprir uma tarefa. Nesse teste, utilizamos um web site que já hava sido criado por nós em um projeto da disciplina de Co-Design de Aplicativos (um portfólio com nossos trabalhos até então realizados durante a graduação) e analisamos a média de tempo gasto pelos usuários para encontrar um projeto realizado pelo dono do portfólio nas diferentes versões.\n",
    "\n",
    "O que difere as versões do website é a categorização dos projetos. Na interface A, os trabalhos do aluno foram organizados em \"habilidades\" desenvolvidas com a realização daquele projeto, como por exemplo \"Habilidade de escrita\". Já na interface B, os projetos foram organizados segundo o grupo que ele se enquadrava melhor, como \"Maker\", \"Computacional\" e etc..."
   ]
  },
  {
   "cell_type": "code",
   "execution_count": null,
   "metadata": {
    "collapsed": true
   },
   "outputs": [],
   "source": [
    "import pandas as pd\n",
    "import json\n",
    "import itertools\n",
    "import matplotlib.pyplot as plt\n",
    "import numpy as np\n",
    "import math\n",
    "from scipy import stats\n",
    "\n",
    "%matplotlib inline"
   ]
  },
  {
   "cell_type": "markdown",
   "metadata": {},
   "source": [
    "## Análise e Resultados\n",
    "\n",
    "### 1.Recolhendo os dados do firebase\n",
    "\n"
   ]
  },
  {
   "cell_type": "code",
   "execution_count": 5,
   "metadata": {
    "collapsed": false
   },
   "outputs": [],
   "source": [
    "arquivo = open(\"meuprojetoincrivel-b2aad-export.json\")\n",
    "linhas = arquivo.readlines()\n",
    "texto = \"\".join(linhas)\n",
    "dados_fire = json.loads(texto)"
   ]
  },
  {
   "cell_type": "code",
   "execution_count": 6,
   "metadata": {
    "collapsed": false
   },
   "outputs": [],
   "source": [
    "for k,v in dados_fire[\"projeto-2-cd\"].items():\n",
    "    # print(k,v) # habilite para imprimir as chaves de mais alto nível\n",
    "    for chave, valor in v.items():\n",
    "        # print(chave, valor) # habilite para imprimir as chaves inferiores\n",
    "        pass # desabilite quando reabilitar a linha de cima"
   ]
  },
  {
   "cell_type": "code",
   "execution_count": 7,
   "metadata": {
    "collapsed": false
   },
   "outputs": [],
   "source": [
    "lista_dicionarios = []\n",
    "\n",
    "for k,v in dados_fire[\"projeto-2-cd\"].items():\n",
    "    lista_dicionarios.append(v)\n"
   ]
  },
  {
   "cell_type": "code",
   "execution_count": 8,
   "metadata": {
    "collapsed": false
   },
   "outputs": [],
   "source": [
    "lista_dicionarios = []\n",
    "\n",
    "for k,v in dados_fire[\"projeto-2-cd\"].items():\n",
    "    lista_dicionarios.append(v)"
   ]
  },
  {
   "cell_type": "code",
   "execution_count": 9,
   "metadata": {
    "collapsed": true
   },
   "outputs": [],
   "source": [
    "dataframe = pd.DataFrame.from_records(lista_dicionarios)"
   ]
  },
  {
   "cell_type": "code",
   "execution_count": 10,
   "metadata": {
    "collapsed": false
   },
   "outputs": [
    {
     "data": {
      "text/html": [
       "<div>\n",
       "<table border=\"1\" class=\"dataframe\">\n",
       "  <thead>\n",
       "    <tr style=\"text-align: right;\">\n",
       "      <th></th>\n",
       "      <th>tempo</th>\n",
       "      <th>tipo</th>\n",
       "      <th>user_id</th>\n",
       "      <th>versao</th>\n",
       "    </tr>\n",
       "  </thead>\n",
       "  <tbody>\n",
       "    <tr>\n",
       "      <th>0</th>\n",
       "      <td>1478315569475</td>\n",
       "      <td>inicio</td>\n",
       "      <td>841028905</td>\n",
       "      <td>B</td>\n",
       "    </tr>\n",
       "    <tr>\n",
       "      <th>1</th>\n",
       "      <td>1479325571866</td>\n",
       "      <td>final</td>\n",
       "      <td>1919271831</td>\n",
       "      <td>B</td>\n",
       "    </tr>\n",
       "    <tr>\n",
       "      <th>2</th>\n",
       "      <td>1479339365007</td>\n",
       "      <td>inicio</td>\n",
       "      <td>343915892</td>\n",
       "      <td>B</td>\n",
       "    </tr>\n",
       "    <tr>\n",
       "      <th>3</th>\n",
       "      <td>1478541007377</td>\n",
       "      <td>inicio</td>\n",
       "      <td>2439073762</td>\n",
       "      <td>B</td>\n",
       "    </tr>\n",
       "    <tr>\n",
       "      <th>4</th>\n",
       "      <td>1479325979410</td>\n",
       "      <td>final</td>\n",
       "      <td>4171562422</td>\n",
       "      <td>A</td>\n",
       "    </tr>\n",
       "    <tr>\n",
       "      <th>5</th>\n",
       "      <td>1478520451180</td>\n",
       "      <td>inicio</td>\n",
       "      <td>1355150594</td>\n",
       "      <td>B</td>\n",
       "    </tr>\n",
       "    <tr>\n",
       "      <th>6</th>\n",
       "      <td>1478520930461</td>\n",
       "      <td>inicio</td>\n",
       "      <td>770580074</td>\n",
       "      <td>B</td>\n",
       "    </tr>\n",
       "    <tr>\n",
       "      <th>7</th>\n",
       "      <td>1479327903006</td>\n",
       "      <td>final</td>\n",
       "      <td>2581541075</td>\n",
       "      <td>B</td>\n",
       "    </tr>\n",
       "    <tr>\n",
       "      <th>8</th>\n",
       "      <td>1479353332277</td>\n",
       "      <td>final</td>\n",
       "      <td>3211109805</td>\n",
       "      <td>B</td>\n",
       "    </tr>\n",
       "    <tr>\n",
       "      <th>9</th>\n",
       "      <td>1479384569023</td>\n",
       "      <td>inicio</td>\n",
       "      <td>853823534</td>\n",
       "      <td>B</td>\n",
       "    </tr>\n",
       "    <tr>\n",
       "      <th>10</th>\n",
       "      <td>1478520533343</td>\n",
       "      <td>inicio</td>\n",
       "      <td>2830537766</td>\n",
       "      <td>B</td>\n",
       "    </tr>\n",
       "    <tr>\n",
       "      <th>11</th>\n",
       "      <td>1479325277158</td>\n",
       "      <td>final</td>\n",
       "      <td>3187205062</td>\n",
       "      <td>B</td>\n",
       "    </tr>\n",
       "    <tr>\n",
       "      <th>12</th>\n",
       "      <td>1479384645028</td>\n",
       "      <td>final</td>\n",
       "      <td>853823534</td>\n",
       "      <td>B</td>\n",
       "    </tr>\n",
       "    <tr>\n",
       "      <th>13</th>\n",
       "      <td>1479347038015</td>\n",
       "      <td>inicio</td>\n",
       "      <td>3215534152</td>\n",
       "      <td>A</td>\n",
       "    </tr>\n",
       "    <tr>\n",
       "      <th>14</th>\n",
       "      <td>1479345035879</td>\n",
       "      <td>inicio</td>\n",
       "      <td>1686436492</td>\n",
       "      <td>B</td>\n",
       "    </tr>\n",
       "    <tr>\n",
       "      <th>15</th>\n",
       "      <td>1478520458281</td>\n",
       "      <td>final</td>\n",
       "      <td>1355150594</td>\n",
       "      <td>B</td>\n",
       "    </tr>\n",
       "    <tr>\n",
       "      <th>16</th>\n",
       "      <td>1479325241402</td>\n",
       "      <td>inicio</td>\n",
       "      <td>3187205062</td>\n",
       "      <td>B</td>\n",
       "    </tr>\n",
       "    <tr>\n",
       "      <th>17</th>\n",
       "      <td>1479339421637</td>\n",
       "      <td>final</td>\n",
       "      <td>343915892</td>\n",
       "      <td>B</td>\n",
       "    </tr>\n",
       "    <tr>\n",
       "      <th>18</th>\n",
       "      <td>1479346480396</td>\n",
       "      <td>inicio</td>\n",
       "      <td>56723714</td>\n",
       "      <td>B</td>\n",
       "    </tr>\n",
       "    <tr>\n",
       "      <th>19</th>\n",
       "      <td>1479339357862</td>\n",
       "      <td>inicio</td>\n",
       "      <td>770580074</td>\n",
       "      <td>B</td>\n",
       "    </tr>\n",
       "    <tr>\n",
       "      <th>20</th>\n",
       "      <td>1478520936364</td>\n",
       "      <td>final</td>\n",
       "      <td>770580074</td>\n",
       "      <td>B</td>\n",
       "    </tr>\n",
       "    <tr>\n",
       "      <th>21</th>\n",
       "      <td>1479346538072</td>\n",
       "      <td>final</td>\n",
       "      <td>56723714</td>\n",
       "      <td>B</td>\n",
       "    </tr>\n",
       "    <tr>\n",
       "      <th>22</th>\n",
       "      <td>1479325962023</td>\n",
       "      <td>inicio</td>\n",
       "      <td>4171562422</td>\n",
       "      <td>A</td>\n",
       "    </tr>\n",
       "    <tr>\n",
       "      <th>23</th>\n",
       "      <td>1479325222626</td>\n",
       "      <td>final</td>\n",
       "      <td>158843299</td>\n",
       "      <td>A</td>\n",
       "    </tr>\n",
       "    <tr>\n",
       "      <th>24</th>\n",
       "      <td>1479325283506</td>\n",
       "      <td>inicio</td>\n",
       "      <td>3187205062</td>\n",
       "      <td>B</td>\n",
       "    </tr>\n",
       "    <tr>\n",
       "      <th>25</th>\n",
       "      <td>1479344670938</td>\n",
       "      <td>final</td>\n",
       "      <td>853823534</td>\n",
       "      <td>B</td>\n",
       "    </tr>\n",
       "    <tr>\n",
       "      <th>26</th>\n",
       "      <td>1479344675996</td>\n",
       "      <td>inicio</td>\n",
       "      <td>853823534</td>\n",
       "      <td>B</td>\n",
       "    </tr>\n",
       "    <tr>\n",
       "      <th>27</th>\n",
       "      <td>1479325290371</td>\n",
       "      <td>final</td>\n",
       "      <td>3187205062</td>\n",
       "      <td>B</td>\n",
       "    </tr>\n",
       "    <tr>\n",
       "      <th>28</th>\n",
       "      <td>1478546665690</td>\n",
       "      <td>final</td>\n",
       "      <td>161490244</td>\n",
       "      <td>A</td>\n",
       "    </tr>\n",
       "    <tr>\n",
       "      <th>29</th>\n",
       "      <td>1479347082104</td>\n",
       "      <td>final</td>\n",
       "      <td>3215534152</td>\n",
       "      <td>A</td>\n",
       "    </tr>\n",
       "    <tr>\n",
       "      <th>30</th>\n",
       "      <td>1479380144054</td>\n",
       "      <td>inicio</td>\n",
       "      <td>2086830067</td>\n",
       "      <td>A</td>\n",
       "    </tr>\n",
       "    <tr>\n",
       "      <th>31</th>\n",
       "      <td>1479327870591</td>\n",
       "      <td>inicio</td>\n",
       "      <td>2581541075</td>\n",
       "      <td>B</td>\n",
       "    </tr>\n",
       "    <tr>\n",
       "      <th>32</th>\n",
       "      <td>1478546649860</td>\n",
       "      <td>inicio</td>\n",
       "      <td>161490244</td>\n",
       "      <td>A</td>\n",
       "    </tr>\n",
       "    <tr>\n",
       "      <th>33</th>\n",
       "      <td>1479344690924</td>\n",
       "      <td>final</td>\n",
       "      <td>853823534</td>\n",
       "      <td>B</td>\n",
       "    </tr>\n",
       "    <tr>\n",
       "      <th>34</th>\n",
       "      <td>1479346784731</td>\n",
       "      <td>inicio</td>\n",
       "      <td>1958848493</td>\n",
       "      <td>B</td>\n",
       "    </tr>\n",
       "    <tr>\n",
       "      <th>35</th>\n",
       "      <td>1479344724879</td>\n",
       "      <td>inicio</td>\n",
       "      <td>3774183163</td>\n",
       "      <td>A</td>\n",
       "    </tr>\n",
       "    <tr>\n",
       "      <th>36</th>\n",
       "      <td>1479353274067</td>\n",
       "      <td>inicio</td>\n",
       "      <td>3211109805</td>\n",
       "      <td>B</td>\n",
       "    </tr>\n",
       "    <tr>\n",
       "      <th>37</th>\n",
       "      <td>1479345054255</td>\n",
       "      <td>final</td>\n",
       "      <td>1686436492</td>\n",
       "      <td>B</td>\n",
       "    </tr>\n",
       "    <tr>\n",
       "      <th>38</th>\n",
       "      <td>1479329616492</td>\n",
       "      <td>final</td>\n",
       "      <td>1546574286</td>\n",
       "      <td>B</td>\n",
       "    </tr>\n",
       "    <tr>\n",
       "      <th>39</th>\n",
       "      <td>1479325212337</td>\n",
       "      <td>inicio</td>\n",
       "      <td>158843299</td>\n",
       "      <td>A</td>\n",
       "    </tr>\n",
       "    <tr>\n",
       "      <th>40</th>\n",
       "      <td>1478546547452</td>\n",
       "      <td>final</td>\n",
       "      <td>161490244</td>\n",
       "      <td>B</td>\n",
       "    </tr>\n",
       "    <tr>\n",
       "      <th>41</th>\n",
       "      <td>1479339161363</td>\n",
       "      <td>inicio</td>\n",
       "      <td>3045520333</td>\n",
       "      <td>B</td>\n",
       "    </tr>\n",
       "    <tr>\n",
       "      <th>42</th>\n",
       "      <td>1479339181699</td>\n",
       "      <td>final</td>\n",
       "      <td>3045520333</td>\n",
       "      <td>B</td>\n",
       "    </tr>\n",
       "    <tr>\n",
       "      <th>43</th>\n",
       "      <td>1479344743555</td>\n",
       "      <td>final</td>\n",
       "      <td>3774183163</td>\n",
       "      <td>A</td>\n",
       "    </tr>\n",
       "    <tr>\n",
       "      <th>44</th>\n",
       "      <td>1478520559839</td>\n",
       "      <td>final</td>\n",
       "      <td>2830537766</td>\n",
       "      <td>B</td>\n",
       "    </tr>\n",
       "    <tr>\n",
       "      <th>45</th>\n",
       "      <td>1478315587270</td>\n",
       "      <td>final</td>\n",
       "      <td>841028905</td>\n",
       "      <td>B</td>\n",
       "    </tr>\n",
       "    <tr>\n",
       "      <th>46</th>\n",
       "      <td>1478546533665</td>\n",
       "      <td>inicio</td>\n",
       "      <td>161490244</td>\n",
       "      <td>B</td>\n",
       "    </tr>\n",
       "    <tr>\n",
       "      <th>47</th>\n",
       "      <td>1478541053915</td>\n",
       "      <td>final</td>\n",
       "      <td>2439073762</td>\n",
       "      <td>B</td>\n",
       "    </tr>\n",
       "    <tr>\n",
       "      <th>48</th>\n",
       "      <td>1479344657946</td>\n",
       "      <td>inicio</td>\n",
       "      <td>853823534</td>\n",
       "      <td>B</td>\n",
       "    </tr>\n",
       "    <tr>\n",
       "      <th>49</th>\n",
       "      <td>1479346798243</td>\n",
       "      <td>final</td>\n",
       "      <td>1958848493</td>\n",
       "      <td>B</td>\n",
       "    </tr>\n",
       "    <tr>\n",
       "      <th>50</th>\n",
       "      <td>1479339392738</td>\n",
       "      <td>final</td>\n",
       "      <td>770580074</td>\n",
       "      <td>B</td>\n",
       "    </tr>\n",
       "    <tr>\n",
       "      <th>51</th>\n",
       "      <td>1479329592965</td>\n",
       "      <td>inicio</td>\n",
       "      <td>1546574286</td>\n",
       "      <td>B</td>\n",
       "    </tr>\n",
       "    <tr>\n",
       "      <th>52</th>\n",
       "      <td>1479325531250</td>\n",
       "      <td>inicio</td>\n",
       "      <td>1919271831</td>\n",
       "      <td>B</td>\n",
       "    </tr>\n",
       "  </tbody>\n",
       "</table>\n",
       "</div>"
      ],
      "text/plain": [
       "            tempo    tipo     user_id versao\n",
       "0   1478315569475  inicio   841028905      B\n",
       "1   1479325571866   final  1919271831      B\n",
       "2   1479339365007  inicio   343915892      B\n",
       "3   1478541007377  inicio  2439073762      B\n",
       "4   1479325979410   final  4171562422      A\n",
       "5   1478520451180  inicio  1355150594      B\n",
       "6   1478520930461  inicio   770580074      B\n",
       "7   1479327903006   final  2581541075      B\n",
       "8   1479353332277   final  3211109805      B\n",
       "9   1479384569023  inicio   853823534      B\n",
       "10  1478520533343  inicio  2830537766      B\n",
       "11  1479325277158   final  3187205062      B\n",
       "12  1479384645028   final   853823534      B\n",
       "13  1479347038015  inicio  3215534152      A\n",
       "14  1479345035879  inicio  1686436492      B\n",
       "15  1478520458281   final  1355150594      B\n",
       "16  1479325241402  inicio  3187205062      B\n",
       "17  1479339421637   final   343915892      B\n",
       "18  1479346480396  inicio    56723714      B\n",
       "19  1479339357862  inicio   770580074      B\n",
       "20  1478520936364   final   770580074      B\n",
       "21  1479346538072   final    56723714      B\n",
       "22  1479325962023  inicio  4171562422      A\n",
       "23  1479325222626   final   158843299      A\n",
       "24  1479325283506  inicio  3187205062      B\n",
       "25  1479344670938   final   853823534      B\n",
       "26  1479344675996  inicio   853823534      B\n",
       "27  1479325290371   final  3187205062      B\n",
       "28  1478546665690   final   161490244      A\n",
       "29  1479347082104   final  3215534152      A\n",
       "30  1479380144054  inicio  2086830067      A\n",
       "31  1479327870591  inicio  2581541075      B\n",
       "32  1478546649860  inicio   161490244      A\n",
       "33  1479344690924   final   853823534      B\n",
       "34  1479346784731  inicio  1958848493      B\n",
       "35  1479344724879  inicio  3774183163      A\n",
       "36  1479353274067  inicio  3211109805      B\n",
       "37  1479345054255   final  1686436492      B\n",
       "38  1479329616492   final  1546574286      B\n",
       "39  1479325212337  inicio   158843299      A\n",
       "40  1478546547452   final   161490244      B\n",
       "41  1479339161363  inicio  3045520333      B\n",
       "42  1479339181699   final  3045520333      B\n",
       "43  1479344743555   final  3774183163      A\n",
       "44  1478520559839   final  2830537766      B\n",
       "45  1478315587270   final   841028905      B\n",
       "46  1478546533665  inicio   161490244      B\n",
       "47  1478541053915   final  2439073762      B\n",
       "48  1479344657946  inicio   853823534      B\n",
       "49  1479346798243   final  1958848493      B\n",
       "50  1479339392738   final   770580074      B\n",
       "51  1479329592965  inicio  1546574286      B\n",
       "52  1479325531250  inicio  1919271831      B"
      ]
     },
     "execution_count": 10,
     "metadata": {},
     "output_type": "execute_result"
    }
   ],
   "source": [
    "dataframe"
   ]
  },
  {
   "cell_type": "markdown",
   "metadata": {},
   "source": [
    "Aqui nós temos nosso conjunto de dados \"sujos\", é necessário, então, ordená-los, e \"limpá-los\", desconsiderando os resultados destoantes, providos de erros de atenção ou de usuário que não devem ser levados em conta análise."
   ]
  },
  {
   "cell_type": "code",
   "execution_count": 11,
   "metadata": {
    "collapsed": false
   },
   "outputs": [],
   "source": [
    "agrupado = dataframe.groupby(by=[\"user_id\", \"versao\"])"
   ]
  },
  {
   "cell_type": "markdown",
   "metadata": {},
   "source": [
    "### 2.Agrupando os dados"
   ]
  },
  {
   "cell_type": "code",
   "execution_count": 12,
   "metadata": {
    "collapsed": false
   },
   "outputs": [],
   "source": [
    "users = set(dataframe.user_id) # We convert it to a set so that each user appear only once"
   ]
  },
  {
   "cell_type": "code",
   "execution_count": 13,
   "metadata": {
    "collapsed": false
   },
   "outputs": [],
   "source": [
    "users = list(users) "
   ]
  },
  {
   "cell_type": "code",
   "execution_count": 14,
   "metadata": {
    "collapsed": false
   },
   "outputs": [],
   "source": [
    "resultados = []\n",
    "\n",
    "for u in users:\n",
    "    for versao in [\"A\", \"B\"]:\n",
    "        if (u, versao) in agrupado.groups.keys(): # Check if a specific pair user/type of test happened\n",
    "            grupo1 =  agrupado.get_group((u, versao))\n",
    "            grupo1 = grupo1.sort_values(by=\"tempo\") # Para evitar que inícios sem fim gerem tempos negativos\n",
    "            \n",
    "            if len(grupo1[grupo1.tipo==\"final\"])>= 1 and len(grupo1[grupo1.tipo==\"inicio\"]) >= 1:\n",
    "                delta_t = grupo1[grupo1.tipo==\"final\"].iloc[-1].tempo - grupo1[grupo1.tipo==\"inicio\"].iloc[0].tempo\n",
    "                resultados.append({\"user_id\":u, \"delta_t\":delta_t, \"versao\":versao})"
   ]
  },
  {
   "cell_type": "code",
   "execution_count": 15,
   "metadata": {
    "collapsed": false
   },
   "outputs": [
    {
     "data": {
      "text/html": [
       "<div>\n",
       "<table border=\"1\" class=\"dataframe\">\n",
       "  <thead>\n",
       "    <tr style=\"text-align: right;\">\n",
       "      <th></th>\n",
       "      <th>tempo</th>\n",
       "      <th>tipo</th>\n",
       "      <th>user_id</th>\n",
       "      <th>versao</th>\n",
       "    </tr>\n",
       "  </thead>\n",
       "  <tbody>\n",
       "    <tr>\n",
       "      <th>35</th>\n",
       "      <td>1479344724879</td>\n",
       "      <td>inicio</td>\n",
       "      <td>3774183163</td>\n",
       "      <td>A</td>\n",
       "    </tr>\n",
       "    <tr>\n",
       "      <th>43</th>\n",
       "      <td>1479344743555</td>\n",
       "      <td>final</td>\n",
       "      <td>3774183163</td>\n",
       "      <td>A</td>\n",
       "    </tr>\n",
       "  </tbody>\n",
       "</table>\n",
       "</div>"
      ],
      "text/plain": [
       "            tempo    tipo     user_id versao\n",
       "35  1479344724879  inicio  3774183163      A\n",
       "43  1479344743555   final  3774183163      A"
      ]
     },
     "execution_count": 15,
     "metadata": {},
     "output_type": "execute_result"
    }
   ],
   "source": [
    "grupo1.sort_values(by=\"tempo\")"
   ]
  },
  {
   "cell_type": "code",
   "execution_count": 16,
   "metadata": {
    "collapsed": true
   },
   "outputs": [],
   "source": [
    "dataframe_resumo = pd.DataFrame.from_records(resultados)"
   ]
  },
  {
   "cell_type": "code",
   "execution_count": 17,
   "metadata": {
    "collapsed": false
   },
   "outputs": [],
   "source": [
    "dataframe_resumo.delta_t/=1000 # Convertendo milissegundos em segundos"
   ]
  },
  {
   "cell_type": "code",
   "execution_count": 18,
   "metadata": {
    "collapsed": false
   },
   "outputs": [
    {
     "data": {
      "text/html": [
       "<div>\n",
       "<table border=\"1\" class=\"dataframe\">\n",
       "  <thead>\n",
       "    <tr style=\"text-align: right;\">\n",
       "      <th></th>\n",
       "      <th>delta_t</th>\n",
       "      <th>user_id</th>\n",
       "      <th>versao</th>\n",
       "    </tr>\n",
       "  </thead>\n",
       "  <tbody>\n",
       "    <tr>\n",
       "      <th>0</th>\n",
       "      <td>7.101</td>\n",
       "      <td>1355150594</td>\n",
       "      <td>B</td>\n",
       "    </tr>\n",
       "    <tr>\n",
       "      <th>1</th>\n",
       "      <td>57.676</td>\n",
       "      <td>56723714</td>\n",
       "      <td>B</td>\n",
       "    </tr>\n",
       "    <tr>\n",
       "      <th>2</th>\n",
       "      <td>18.376</td>\n",
       "      <td>1686436492</td>\n",
       "      <td>B</td>\n",
       "    </tr>\n",
       "    <tr>\n",
       "      <th>3</th>\n",
       "      <td>40.616</td>\n",
       "      <td>1919271831</td>\n",
       "      <td>B</td>\n",
       "    </tr>\n",
       "    <tr>\n",
       "      <th>4</th>\n",
       "      <td>10.289</td>\n",
       "      <td>158843299</td>\n",
       "      <td>A</td>\n",
       "    </tr>\n",
       "    <tr>\n",
       "      <th>5</th>\n",
       "      <td>26.496</td>\n",
       "      <td>2830537766</td>\n",
       "      <td>B</td>\n",
       "    </tr>\n",
       "    <tr>\n",
       "      <th>6</th>\n",
       "      <td>17.795</td>\n",
       "      <td>841028905</td>\n",
       "      <td>B</td>\n",
       "    </tr>\n",
       "    <tr>\n",
       "      <th>7</th>\n",
       "      <td>58.210</td>\n",
       "      <td>3211109805</td>\n",
       "      <td>B</td>\n",
       "    </tr>\n",
       "    <tr>\n",
       "      <th>8</th>\n",
       "      <td>39987.082</td>\n",
       "      <td>853823534</td>\n",
       "      <td>B</td>\n",
       "    </tr>\n",
       "    <tr>\n",
       "      <th>9</th>\n",
       "      <td>17.387</td>\n",
       "      <td>4171562422</td>\n",
       "      <td>A</td>\n",
       "    </tr>\n",
       "    <tr>\n",
       "      <th>10</th>\n",
       "      <td>15.830</td>\n",
       "      <td>161490244</td>\n",
       "      <td>A</td>\n",
       "    </tr>\n",
       "    <tr>\n",
       "      <th>11</th>\n",
       "      <td>13.787</td>\n",
       "      <td>161490244</td>\n",
       "      <td>B</td>\n",
       "    </tr>\n",
       "    <tr>\n",
       "      <th>12</th>\n",
       "      <td>48.969</td>\n",
       "      <td>3187205062</td>\n",
       "      <td>B</td>\n",
       "    </tr>\n",
       "    <tr>\n",
       "      <th>13</th>\n",
       "      <td>44.089</td>\n",
       "      <td>3215534152</td>\n",
       "      <td>A</td>\n",
       "    </tr>\n",
       "    <tr>\n",
       "      <th>14</th>\n",
       "      <td>20.336</td>\n",
       "      <td>3045520333</td>\n",
       "      <td>B</td>\n",
       "    </tr>\n",
       "    <tr>\n",
       "      <th>15</th>\n",
       "      <td>23.527</td>\n",
       "      <td>1546574286</td>\n",
       "      <td>B</td>\n",
       "    </tr>\n",
       "    <tr>\n",
       "      <th>16</th>\n",
       "      <td>32.415</td>\n",
       "      <td>2581541075</td>\n",
       "      <td>B</td>\n",
       "    </tr>\n",
       "    <tr>\n",
       "      <th>17</th>\n",
       "      <td>46.538</td>\n",
       "      <td>2439073762</td>\n",
       "      <td>B</td>\n",
       "    </tr>\n",
       "    <tr>\n",
       "      <th>18</th>\n",
       "      <td>818462.277</td>\n",
       "      <td>770580074</td>\n",
       "      <td>B</td>\n",
       "    </tr>\n",
       "    <tr>\n",
       "      <th>19</th>\n",
       "      <td>13.512</td>\n",
       "      <td>1958848493</td>\n",
       "      <td>B</td>\n",
       "    </tr>\n",
       "    <tr>\n",
       "      <th>20</th>\n",
       "      <td>56.630</td>\n",
       "      <td>343915892</td>\n",
       "      <td>B</td>\n",
       "    </tr>\n",
       "    <tr>\n",
       "      <th>21</th>\n",
       "      <td>18.676</td>\n",
       "      <td>3774183163</td>\n",
       "      <td>A</td>\n",
       "    </tr>\n",
       "  </tbody>\n",
       "</table>\n",
       "</div>"
      ],
      "text/plain": [
       "       delta_t     user_id versao\n",
       "0        7.101  1355150594      B\n",
       "1       57.676    56723714      B\n",
       "2       18.376  1686436492      B\n",
       "3       40.616  1919271831      B\n",
       "4       10.289   158843299      A\n",
       "5       26.496  2830537766      B\n",
       "6       17.795   841028905      B\n",
       "7       58.210  3211109805      B\n",
       "8    39987.082   853823534      B\n",
       "9       17.387  4171562422      A\n",
       "10      15.830   161490244      A\n",
       "11      13.787   161490244      B\n",
       "12      48.969  3187205062      B\n",
       "13      44.089  3215534152      A\n",
       "14      20.336  3045520333      B\n",
       "15      23.527  1546574286      B\n",
       "16      32.415  2581541075      B\n",
       "17      46.538  2439073762      B\n",
       "18  818462.277   770580074      B\n",
       "19      13.512  1958848493      B\n",
       "20      56.630   343915892      B\n",
       "21      18.676  3774183163      A"
      ]
     },
     "execution_count": 18,
     "metadata": {},
     "output_type": "execute_result"
    }
   ],
   "source": [
    "dataframe_resumo"
   ]
  },
  {
   "cell_type": "markdown",
   "metadata": {},
   "source": [
    "Aqui os dados foram agrupados, com o delta tempo sendo calculado, usando os valores de início e fim."
   ]
  },
  {
   "cell_type": "markdown",
   "metadata": {},
   "source": [
    "### 3.Limpeza e visão geral dos dados"
   ]
  },
  {
   "cell_type": "code",
   "execution_count": 19,
   "metadata": {
    "collapsed": false
   },
   "outputs": [
    {
     "data": {
      "text/plain": [
       "(array([ 0.,  1.,  4.,  3.,  1.,  0.,  2.,  1.,  3.]),\n",
       " array([  0.        ,   6.66666667,  13.33333333,  20.        ,\n",
       "         26.66666667,  33.33333333,  40.        ,  46.66666667,\n",
       "         53.33333333,  60.        ]),\n",
       " <a list of 9 Patch objects>)"
      ]
     },
     "execution_count": 19,
     "metadata": {},
     "output_type": "execute_result"
    },
    {
     "data": {
      "image/png": "[encoded data removed]",
      "text/plain": [
       "<matplotlib.figure.Figure at 0x29b047dc400>"
      ]
     },
     "metadata": {},
     "output_type": "display_data"
    }
   ],
   "source": [
    "tempos_A = list(dataframe_resumo[dataframe_resumo.versao==\"A\"].delta_t)\n",
    "tempos_B = list(dataframe_resumo[dataframe_resumo.versao==\"B\"].delta_t)\n",
    "tempos_A1=[]\n",
    "tempos_B1=[]\n",
    "\n",
    "for i in tempos_A:\n",
    "    if i<100:\n",
    "        tempos_A1.append(i)\n",
    "for i in tempos_B:\n",
    "    if i<100:\n",
    "        tempos_B1.append(i)\n",
    "faixa = np.linspace(0,60,10)\n",
    "\n",
    "plt.hist(tempos_A1, bins=faixa)\n",
    "plt.hist(tempos_B1, bins=faixa, alpha=0.5)"
   ]
  },
  {
   "cell_type": "code",
   "execution_count": 20,
   "metadata": {
    "collapsed": false
   },
   "outputs": [
    {
     "name": "stdout",
     "output_type": "stream",
     "text": [
      "A média de tempos da interface A é de: 21.2542\n",
      "A média de tempos da interface B é de: 32.132266666666666\n",
      "A variância dos tempos da interface A é de: 138.53759976\n",
      "A variância dos tempos da interface B é de: 296.3542267288889\n",
      "O desvio padrão dos tempos da interface A é de: 11.770199648264256\n",
      "O desvio padrão dos tempos da interface B é de: 17.21494196124079\n"
     ]
    }
   ],
   "source": [
    "print(\"A média de tempos da interface A é de: {0}\".format(np.mean(tempos_A1)))\n",
    "\n",
    "print(\"A média de tempos da interface B é de: {0}\".format(np.mean(tempos_B1)))\n",
    "\n",
    "print(\"A variância dos tempos da interface A é de: {0}\".format(np.var(tempos_A1)))\n",
    "\n",
    "print(\"A variância dos tempos da interface B é de: {0}\".format(np.var(tempos_B1)))\n",
    "\n",
    "print(\"O desvio padrão dos tempos da interface A é de: {0}\".format(math.sqrt(np.var(tempos_A1))))\n",
    "\n",
    "print(\"O desvio padrão dos tempos da interface B é de: {0}\".format(math.sqrt(np.var(tempos_B1))))"
   ]
  },
  {
   "cell_type": "markdown",
   "metadata": {
    "collapsed": true
   },
   "source": [
    "Aqui nós temos uma visão dos principais valores obtidos através do nosso banco de dados, os quais serão utilizados em fórmulas explicadas nas páginas 324 e 325 do livro \"Noções de Probabilidade e Estatística\" de Magalhães Lima. Foi considerado este caso em específico para ser utilizado pois trata-se de um caso onde o valores são idependentes entre si, (tempo no site A/tempo no site B)  e possuem variâncias (e, logo, desvios padrões) diferentes e desconhecidos.\n",
    "\n"
   ]
  },
  {
   "cell_type": "markdown",
   "metadata": {},
   "source": [
    "### 4.Teste de hipótese"
   ]
  },
  {
   "cell_type": "markdown",
   "metadata": {},
   "source": [
    "Teste de hipóteses: Hipótese H0: muA <= muB (média da A será menor ou igual à média B).\n",
    "ou H1: muA > muB (média da A será maior que a média B) \n",
    "Realizaremos o teste com um nível de confiança de 95%.\n",
    "\n",
    "Em outras palavras, nosso teste se comprometerá em testar a hipótese de que a média de tempo para uma determinada ação ser realizada no site A seja menor ou igual que a média de tempo para a mesma ação no site B, ou seja, será um teste bicaudal, onde RC se apresenta no lado direito da distribuição.\n",
    "\n",
    "Através do teorema do valor médio temos que nossa distribuição amostral irá se aproximar à uma distribuição normal, e assumindo um valor desconhecido de variância da população, uma distribuição normal para a população e tendo o valor da variância amostral é possível utilizar as fórmulas contidas no livros.\n",
    "\n",
    "Assim, considerando muD igual a zero no caso da nossa hipótese nula, pois muA-muB=0, podemos utilizar a fórmula encontrando na página 324:"
   ]
  },
  {
   "cell_type": "code",
   "execution_count": null,
   "metadata": {
    "collapsed": true
   },
   "outputs": [],
   "source": [
    "alpha= 0.05\n",
    "na= 5\n",
    "nb = 16\n",
    "μD = 0 \n",
    "    \n",
    "μa= np.mean(tempos_A1)\n",
    "μb= np.mean(tempos_B1)\n",
    "sa= math.sqrt(np.var(tempos_A1))\n",
    "sb = math.sqrt(np.var(tempos_B1))\n",
    "s1a = ((sa**2)/na)\n",
    "s1b = ((sb**2)/nb)\n",
    "s2a = (s1a**2)/(na-1)\n",
    "s2b = (s1b**2)/(nb-1)"
   ]
  },
  {
   "cell_type": "code",
   "execution_count": 25,
   "metadata": {
    "collapsed": false
   },
   "outputs": [
    {
     "data": {
      "text/plain": [
       "(1.5998945924053378, 9.94972780763389)"
      ]
     },
     "execution_count": 25,
     "metadata": {},
     "output_type": "execute_result"
    }
   ],
   "source": [
    "\n",
    "T=(μD -(μa - μb))/((s1a+s1b)**(0.5))#fórmula pg324\n",
    "v= ((s1a + s1b)**2)/(s2a+s2b)##fórmula pg324\n",
    "T, v\n"
   ]
  },
  {
   "cell_type": "code",
   "execution_count": 30,
   "metadata": {
    "collapsed": false
   },
   "outputs": [
    {
     "name": "stdout",
     "output_type": "stream",
     "text": [
      "O teste não rejeita a hipótese inicial\n"
     ]
    }
   ],
   "source": [
    "pvalue = stats.t.sf(T,df=v)\n",
    "pvalue\n",
    "\n",
    "alpha=0.05\n",
    "if(pvalue> 1-alpha):\n",
    "    print(\"O teste rejeita a hipótese inicial\")\n",
    "else:\n",
    "    print(\"O teste não rejeita a hipótese inicial\")\n"
   ]
  },
  {
   "cell_type": "markdown",
   "metadata": {
    "collapsed": true
   },
   "source": [
    "Através do nosso valor-p e considerando um índice de significância de 5% o teste não rejeita a hipótese inicial, assim, o site tipo A é aquele que possui uma média de tempo menor ou igual ao site B, para realizar uma mesma ação, e por consequência é o método mais eficiente e que deve ser utilizado em iterações futuras do site."
   ]
  },
  {
   "cell_type": "code",
   "execution_count": null,
   "metadata": {
    "collapsed": true
   },
   "outputs": [],
   "source": []
  }
 ],
 "metadata": {
  "kernelspec": {
   "display_name": "Python 3",
   "language": "python",
   "name": "python3"
  },
  "language_info": {
   "codemirror_mode": {
    "name": "ipython",
    "version": 3
   },
   "file_extension": ".py",
   "mimetype": "text/x-python",
   "name": "python",
   "nbconvert_exporter": "python",
   "pygments_lexer": "ipython3",
   "version": "3.5.1"
  }
 },
 "nbformat": 4,
 "nbformat_minor": 0
}
