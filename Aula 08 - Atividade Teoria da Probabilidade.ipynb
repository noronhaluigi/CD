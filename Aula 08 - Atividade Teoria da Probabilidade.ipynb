{
 "cells": [
  {
   "cell_type": "markdown",
   "metadata": {},
   "source": [
    "___\n",
    "# Atividade: Teoria da Probabilidade\n",
    "___\n",
    "\n",
    "## Aula 08\n",
    "\n",
    "**Referência de Leitura:**\n",
    "1. Magalhães e Lima (7ª. Edição): pág. 49 a 68 - Probabilidades\n",
    "\n",
    "**Hoje:**\n",
    "1. Conceito de Probabilidade\n",
    "4. Probabilidade Condicional\n",
    "3. Independência de eventos\n",
    "5. Teorema de Bayes. Simulação do problema de Monty Hall\n",
    "\n",
    "**Próxima aula:**\n",
    "1. Magalhães e Lima (7ª. Edição): pág. 69 a 104 - Variáveis aleatórias discretas\n",
    "___"
   ]
  },
  {
   "cell_type": "code",
   "execution_count": 1,
   "metadata": {
    "collapsed": true
   },
   "outputs": [],
   "source": [
    "%matplotlib inline\n",
    "import pandas as pd\n",
    "import matplotlib.pyplot as plt\n",
    "from numpy import arange\n",
    "import numpy\n",
    "#Bibliotecas necessárias\n",
    "from numpy.random import shuffle, randint, choice\n"
   ]
  },
  {
   "cell_type": "markdown",
   "metadata": {},
   "source": [
    "## <font color='blue'>Exercício 1</font>\n",
    "\n",
    "Monte a simulação de 1000 jogadas de um dado idôneo de 6 faces. Faça o histograma (normalizado) da frequência.\n",
    "\n",
    "    a) Olhando o histograma, o que pode se dizer sobre as probabilidade de cada face?\n",
    "    \n",
    "    b) Discorra sobre o porque da probabilidade não ser exatamente igual à teórica."
   ]
  },
  {
   "cell_type": "code",
   "execution_count": 20,
   "metadata": {
    "collapsed": false
   },
   "outputs": [
    {
     "data": {
      "image/png": "[encoded data removed]",
      "text/plain": [
       "<matplotlib.figure.Figure at 0x1e63bcf4a8>"
      ]
     },
     "metadata": {},
     "output_type": "display_data"
    }
   ],
   "source": [
    "dados = []\n",
    "faixa = arange(1,8, 1)\n",
    "for i in range(1000):\n",
    "    dados.append(numpy.random.randint(1,7))\n",
    "#plot = variavelQuant.plot.hist(bins=faixa)\n",
    "df1 = pd.DataFrame(data = dados)\n",
    "plot = df1.plot.hist(bins = faixa)\n",
    "#a) Olhando para o histograma, podemos perceber que as probabilidades de cair cada face são parelhas.\n",
    "#b) Essa probabilidade não é igual à teórica, já que ocorre o efeito dos erros aleatórios, não controlados pelo sistema."
   ]
  },
  {
   "cell_type": "markdown",
   "metadata": {},
   "source": [
    "___\n",
    "## <font color='blue'>Exercício 2</font>\n",
    "\n",
    "Ampliando o espaço amostral para as possíveis jogadas de 2 dados, analise as seguintes situações:\n",
    "    \n",
    "    a) Jogando os dois dados ao mesmo tempo. Qual é a probabilidade de obter soma 7?\n",
    "    \n",
    "    b) Jogando um dado e depois o segundo dado. Qual é a probabilidade de obter soma 7 já sabendo o resultado do primeiro? Compare o resultado com item anterior! Por que é igual ou diferente?"
   ]
  },
  {
   "cell_type": "code",
   "execution_count": 6,
   "metadata": {
    "collapsed": false
   },
   "outputs": [
    {
     "name": "stdout",
     "output_type": "stream",
     "text": [
      "0.17\n",
      "0.172\n"
     ]
    }
   ],
   "source": [
    "#a)\n",
    "dado1 = []\n",
    "dado2 = []\n",
    "soma_7 = []\n",
    "for i in range(1000):\n",
    "    x = numpy.random.randint(1,7)\n",
    "    y = numpy.random.randint(1,7)\n",
    "    dado1.append(x)\n",
    "    dado2.append(y)\n",
    "for i in range(len(dado1)):\n",
    "    if dado1[i] + dado2[i] == 7:\n",
    "        soma_7.append(1)\n",
    "print((len(soma_7))/(len(dado1)))\n",
    "\n",
    "\n",
    "#b)\n",
    "dado1 = []\n",
    "dado2 = []\n",
    "soma_7 = []\n",
    "for i in range(1000):\n",
    "    x = numpy.random.randint(1,6)\n",
    "    dado1.append(x)\n",
    "for i in range(1000):\n",
    "    y = numpy.random.randint(1,6)\n",
    "    dado2.append(y)\n",
    "for i in range(len(dado1)):\n",
    "    if dado1[i] + dado2[i] == 7:\n",
    "        soma_7.append(1)\n",
    "print((len(soma_7))/(len(dado1)))\n",
    "#a) Jogando os dois dados simultâneamente, a chance de se obter soma = 7 será de 15%.\n",
    "#b) Jogando um dado e logo depois o outro, por serem idependentes entre sí, a probabilidade de se obter a soma = 7 será a mesma: 15%.\n",
    "#c)   "
   ]
  },
  {
   "cell_type": "markdown",
   "metadata": {},
   "source": [
    "___\n",
    "## <font color='blue'>Exercício 3</font>\n",
    "\n",
    "Simule 10000 vezes o problema de Monty Hall¹ , usar o seguinte algoritmo:\n",
    "\n",
    "\n",
    "* Repetir 10000 vezes:\n",
    "    * Sorteie um número de porta de 1 a 3 para ser a premiada\n",
    "    * Sorteie um número de porta de 1 a 3 para ser a porta escolhida.\n",
    "    * Sorteie um número de porta para ser a aberta, desde que não seja a premiada e nem a porta escolhida. Assim, se:\n",
    "        * porta premiada é 1 e a escolhida é 1, sorteie entre as portas 2 e 3 para ser aberta\n",
    "        * porta premiada é 1 e a escolhida é 2, com probabilidade 1 deve abrir a porta 3\n",
    "        * porta premiada é 1 e a escolhida é 3, com probabilidade 1 deve abrir a porta 2\n",
    "        * assim para demais casos...\n",
    "    \n",
    "    * Calcule quantas vezes indivíduo ganha ao trocar de porta. Ou seja, se:\n",
    "        * porta premiada é 1, a escolhida é 1 e aberta é 2 (ou 3), indivíduo perde se trocar de porta\n",
    "        * porta premiada é 1, a escolhida é 2 e aberta é 3, indivíduo ganha se trocar de porta\n",
    "        * porta premiada é 1, a escolhida é 3 e aberta é 2, indivíduo ganha se trocar de porta\n",
    "        * assim para demais casos...\n",
    "        \n",
    "    * Exibir quantas vezes em 10000, o indivíduo ganhou ao trocar de porta.\n",
    "\n",
    "Compare o resultado numérico com o resultado analítico obtido via Teorema de Bayes.\n",
    "\n",
    "¹https://en.wikipedia.org/wiki/Monty_Hall_problem e \n",
    "Exercício 1.4.5 de http://www.portalaction.com.br/probabilidades/14-eventos-independentes-e-probabilidade-condicional"
   ]
  },
  {
   "cell_type": "code",
   "execution_count": 26,
   "metadata": {
    "collapsed": false
   },
   "outputs": [
    {
     "name": "stdout",
     "output_type": "stream",
     "text": [
      "3378\n",
      "6622\n"
     ]
    }
   ],
   "source": [
    "ganhou = 0\n",
    "perdeu = 0\n",
    "\n",
    "for i in range(10000):\n",
    "    premiada = numpy.random.randint(0,3,1)\n",
    "    escolhida = numpy.random.randint(0,3,1)\n",
    "    aberta = numpy.random.randint(0,3,1)\n",
    "    troca = numpy.random.randint(0,3,1)\n",
    "    while(aberta == escolhida)or(aberta == premiada):\n",
    "        aberta = numpy.random.randint(0,3,1)\n",
    "    if troca == premiada:\n",
    "        ganhou += 1\n",
    "    else:\n",
    "        perdeu+=1\n",
    "print(ganhou)\n",
    "print(perdeu)\n",
    "    \n",
    "    "
   ]
  },
  {
   "cell_type": "code",
   "execution_count": null,
   "metadata": {
    "collapsed": true
   },
   "outputs": [],
   "source": []
  }
 ],
 "metadata": {
  "anaconda-cloud": {},
  "kernelspec": {
   "display_name": "Python 3",
   "language": "python",
   "name": "python3"
  },
  "language_info": {
   "codemirror_mode": {
    "name": "ipython",
    "version": 3
   },
   "file_extension": ".py",
   "mimetype": "text/x-python",
   "name": "python",
   "nbconvert_exporter": "python",
   "pygments_lexer": "ipython3",
   "version": "3.5.1"
  }
 },
 "nbformat": 4,
 "nbformat_minor": 0
}
